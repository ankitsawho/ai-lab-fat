{
 "cells": [
  {
   "cell_type": "markdown",
   "id": "589906b6",
   "metadata": {},
   "source": [
    "<img src=\"./dia.png\">"
   ]
  },
  {
   "cell_type": "code",
   "execution_count": 1,
   "id": "796789a5",
   "metadata": {},
   "outputs": [],
   "source": [
    "dependencies = {\n",
    "    'firefox' : ['dbus-glib','ffmpeg','gtk3','libpulse','libxt'],\n",
    "    'dbus-glib' : ['dbus', 'glib2'],\n",
    "    'ffmpeg' : ['alsa-lib', 'aom','bzip2','fribidi','gmp'],\n",
    "    'gtk3': ['atk','cairo','dconf','fribidi','json-glib'],\n",
    "    'libpulse':['dbus','libasyncns','libcap','libsm', 'glib2'],\n",
    "    'libxt':['libsm','libx11'],\n",
    "    'dbus':['audit', 'expat'],\n",
    "    'glib2':['libffi','zlib','pcre'],\n",
    "    'alsa-lib':['glibc','alsa-ucm','conf'],\n",
    "    'aom':['gcc-libs'],\n",
    "    'bzip2':['glibc'],\n",
    "    'fribidi':['glibc'],\n",
    "    'gmp':['gcc-libs'],\n",
    "    'atk':['glib2'],\n",
    "    'cairo':['glib2','libpng'],\n",
    "    'dconf':['glib2','dbus'],\n",
    "    'json-glib':['glib2'],\n",
    "    'libasyncns':['glibc','lynx'],\n",
    "    'libcap':['glibc','pam'],\n",
    "    'libsm':['libice','libutil-linux'],\n",
    "    'glib2':['libffi','pcre','zlib','util-linux-libs'],\n",
    "    'libsm':['libice','xtrans','xorgproto'],\n",
    "    'libx11':['libxcb','xorgproto', 'xtrans']\n",
    "}"
   ]
  },
  {
   "cell_type": "code",
   "execution_count": 3,
   "id": "a9339db8",
   "metadata": {},
   "outputs": [],
   "source": [
    "def BFS(package, dependencies = dependencies):\n",
    "    visited = []\n",
    "    queue = []\n",
    "    queue.append(package)\n",
    "    visited.append(package)\n",
    "\n",
    "    while queue:\n",
    "        pkg = queue.pop(0) \n",
    "        print (\"-\",pkg)\n",
    "        if pkg in dependencies:\n",
    "            for subpkg in dependencies[pkg]:\n",
    "                if subpkg not in visited:\n",
    "                    visited.append(subpkg)\n",
    "                    queue.append(subpkg)\n"
   ]
  },
  {
   "cell_type": "code",
   "execution_count": 4,
   "id": "88c75c8b",
   "metadata": {},
   "outputs": [
    {
     "name": "stdout",
     "output_type": "stream",
     "text": [
      "- glib2\n",
      "- libffi\n",
      "- pcre\n",
      "- zlib\n",
      "- util-linux-libs\n"
     ]
    }
   ],
   "source": [
    "BFS('glib2')"
   ]
  },
  {
   "cell_type": "code",
   "execution_count": 20,
   "id": "b2cdf9bd",
   "metadata": {},
   "outputs": [],
   "source": [
    "def dfs(graph, start, visited=None):\n",
    "    if visited is None:\n",
    "        visited = set()\n",
    "    visited.add(start)\n",
    "    print(start)\n",
    "    for next in graph[start] - visited:\n",
    "        dfs(graph, next, visited)\n",
    "    return visited"
   ]
  },
  {
   "cell_type": "code",
   "execution_count": 21,
   "id": "51ff91dc",
   "metadata": {},
   "outputs": [],
   "source": [
    "dependencies = {\n",
    "    'firefox' : set(['dbus-glib','ffmpeg','gtk3','libpulse','libxt']),\n",
    "    'dbus-glib' : set(['dbus', 'glib2']),\n",
    "    'ffmpeg' : set(['alsa-lib', 'aom','bzip2','fribidi','gmp']),\n",
    "    'gtk3': set(['atk','cairo','dconf','fribidi','json-glib']),\n",
    "    'libpulse':set(['dbus','libasyncns','libcap','libsm', 'glib2']),\n",
    "    'libxt':set(['libsm','libx11']),\n",
    "    'dbus':set(['audit', 'expat']),\n",
    "    'glib2':set(['libffi','zlib','pcre']),\n",
    "    'alsa-lib':set(['glibc','alsa-ucm','conf']),\n",
    "    'aom':set(['gcc-libs']),\n",
    "    'bzip2':set(['glibc']),\n",
    "    'fribidi':set(['glibc']),\n",
    "    'gmp':set(['gcc-libs']),\n",
    "    'atk':set(['glib2']),\n",
    "    'cairo':set(['glib2','libpng']),\n",
    "    'dconf':set(['glib2','dbus']),\n",
    "    'json-glib':set(['glib2']),\n",
    "    'libasyncns':set(['glibc','lynx']),\n",
    "    'libcap':set(['glibc','pam']),\n",
    "    'libsm':set(['libice','libutil-linux']),\n",
    "    'glib2':set(['libffi','pcre','zlib','util-linux-libs']),\n",
    "    'libsm':set(['libice','xtrans','xorgproto']),\n",
    "    'libx11':set(['libxcb','xorgproto', 'xtrans'])\n",
    "}"
   ]
  },
  {
   "cell_type": "code",
   "execution_count": 2,
   "id": "ee740f50",
   "metadata": {},
   "outputs": [],
   "source": [
    "def DFS(package, dependencies = dependencies):\n",
    "    visited = []\n",
    "    stack = []\n",
    "    stack.append(package)\n",
    "    visited.append(package)\n",
    "\n",
    "    while stack:\n",
    "        pkg = stack.pop(-1) \n",
    "        print (\"-\",pkg)\n",
    "        if pkg in dependencies:\n",
    "            for subpkg in dependencies[pkg]:\n",
    "                if subpkg not in visited:\n",
    "                    visited.append(subpkg)\n",
    "                    stack.append(subpkg)\n"
   ]
  },
  {
   "cell_type": "code",
   "execution_count": 5,
   "id": "9774b9a3",
   "metadata": {},
   "outputs": [
    {
     "name": "stdout",
     "output_type": "stream",
     "text": [
      "- dconf\n",
      "- dbus\n",
      "- expat\n",
      "- audit\n",
      "- glib2\n",
      "- util-linux-libs\n",
      "- zlib\n",
      "- pcre\n",
      "- libffi\n"
     ]
    }
   ],
   "source": [
    "DFS('dconf',dependencies)"
   ]
  },
  {
   "cell_type": "code",
   "execution_count": null,
   "id": "289c10e4",
   "metadata": {},
   "outputs": [],
   "source": []
  }
 ],
 "metadata": {
  "kernelspec": {
   "display_name": "Python 3 (ipykernel)",
   "language": "python",
   "name": "python3"
  },
  "language_info": {
   "codemirror_mode": {
    "name": "ipython",
    "version": 3
   },
   "file_extension": ".py",
   "mimetype": "text/x-python",
   "name": "python",
   "nbconvert_exporter": "python",
   "pygments_lexer": "ipython3",
   "version": "3.10.4"
  }
 },
 "nbformat": 4,
 "nbformat_minor": 5
}

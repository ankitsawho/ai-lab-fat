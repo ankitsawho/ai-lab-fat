{
 "cells": [
  {
   "cell_type": "code",
   "execution_count": 80,
   "id": "6c20b0eb",
   "metadata": {},
   "outputs": [],
   "source": [
    "import random as r"
   ]
  },
  {
   "cell_type": "code",
   "execution_count": 81,
   "id": "f40af611",
   "metadata": {},
   "outputs": [],
   "source": [
    "class environment:\n",
    "    def __init__(self, size):\n",
    "        self.size = size\n",
    "        self.field = [['#']*(size+2)] + [['#']+[' ']*size+['#']]*size +[['#']*(size+2)]\n",
    "        l = ['#', 'o', ' ']\n",
    "        for i in range(1,51):\n",
    "            self.field[i] = ['#'] +  r.choices(l, weights=[1,1,10], k = self.size) + ['#']\n",
    "        \n",
    "        \n",
    "    def display(self):\n",
    "        for i in range(self.size+2):\n",
    "            for j in range(self.size+2):\n",
    "                print(self.field[i][j], end='')\n",
    "            print()"
   ]
  },
  {
   "cell_type": "code",
   "execution_count": 82,
   "id": "24341a19",
   "metadata": {},
   "outputs": [],
   "source": [
    "env = environment(50)"
   ]
  },
  {
   "cell_type": "code",
   "execution_count": 83,
   "id": "6fcf5f56",
   "metadata": {},
   "outputs": [
    {
     "name": "stdout",
     "output_type": "stream",
     "text": [
      "####################################################\n",
      "#       #      o#o         o   #   #  #  o     o   #\n",
      "# #        #oo o    ##          o           o#    ##\n",
      "#o    # o##                        #o        #  oo #\n",
      "#         #           #        oo#       o  o      #\n",
      "#    o#   o   o# o    o   o         o o o# o       #\n",
      "#   #   #   #        o        o    o    o # #      #\n",
      "#    #     o    o  o    #      o    o        #     #\n",
      "#      #    o#      #      ##  o       #   #   o  ##\n",
      "#  #     o #   # o#     o  o       oo              #\n",
      "#  #          #       #         #     oo    o  o # #\n",
      "#o#             #  o         #oo  o     o o        #\n",
      "#         o    o o         o              o #     ##\n",
      "#        o# #  #            oo       # #   o  o    #\n",
      "# o      o              #             o  #        ##\n",
      "#  #         o         ##          #     #         #\n",
      "#                  o  # #    o       o      #      #\n",
      "##           o           oo      #           o o   #\n",
      "#       oo      o       # #      o  #       #      #\n",
      "#    o            ##      o  o               # #   #\n",
      "#     o       o                  #        o        #\n",
      "#         o o          #        o  #               #\n",
      "#  # # #  #               #   o   #    #     #   # #\n",
      "#            o        o    o      o# o             #\n",
      "#    #          o         o      o   o       o o   #\n",
      "#         o    o       #    o#  #  o##             #\n",
      "#  #  o#                                o      #   #\n",
      "#o  #              #     o  #           #      #   #\n",
      "#  #        #    #  # o      o       #       #o    #\n",
      "#   o         o            o     #   # o       o  ##\n",
      "# o    o   ##    o   # o        #       o      #   #\n",
      "#        #   ##o              o   #    #   #    o  #\n",
      "#  #       oo#                  oo # o             #\n",
      "#               o    o                           # #\n",
      "#o     #      #o     o        o      o   #  #    ###\n",
      "#o     # oo #   #      o        oo     #o  #     o #\n",
      "#  o             o      o      oo #      #        ##\n",
      "#              o  #         o      #       o  # o  #\n",
      "#       # o   #o o   o   # o    ##                 #\n",
      "# o #   #                o  o    #   o#o           #\n",
      "#   # # o  o#o  #   oo o  o              #         #\n",
      "#     #             o     #  o             # o  #  #\n",
      "#        o  o #       o  #       o     #      #    #\n",
      "#       o    o  o  o #                        o o  #\n",
      "#o  #           ##    #     o   o     #            #\n",
      "#                          #                 #  o  #\n",
      "#                     #o                    o   #  #\n",
      "#  o      #  o      # # o  # # #  o         #  #   #\n",
      "#  o      o   o   #      # #     o          #    # #\n",
      "#o  o      o o                #o #  o        #     #\n",
      "#  o     o            o  # oo       #   #    o     #\n",
      "####################################################\n"
     ]
    }
   ],
   "source": [
    "env.display()"
   ]
  },
  {
   "cell_type": "code",
   "execution_count": 84,
   "id": "2f385849",
   "metadata": {},
   "outputs": [],
   "source": [
    "class agent:\n",
    "    def __init__(self,env):\n",
    "        self.env = env\n",
    "        self.coins = 0\n",
    "        self.distance = 0\n",
    "        self.steps = 0\n",
    "        self.x = 1\n",
    "        self.y = 1\n",
    "        self.history = [(-1,-1)]\n",
    "        \n",
    "    def decide(self, x,y):\n",
    "        if self.env.field[x+1][y] != '#':\n",
    "            x = x+1\n",
    "            if self.env.field[x+1][y] == 'o':\n",
    "                self.coins += 1\n",
    "                self.env.field[x+1][y] = ' '\n",
    "        elif self.env.field[x][y+1] != '#':\n",
    "            y = y+1\n",
    "            if self.env.field[x][y+1] == 'o':\n",
    "                self.coins += 1\n",
    "                self.env.field[x][y+1] = ' '\n",
    "        elif self.env.field[x-1][y] != '#':\n",
    "            x = x-1\n",
    "            if self.env.field[x-1][y] == 'o':\n",
    "                self.coins += 1\n",
    "                self.env.field[x-1][y] = ' '\n",
    "        elif self.env.field[x][y-1] == ' ' or self.env.field[x][y-1] == 'o':\n",
    "            y = y-1\n",
    "            if self.env.field[x][y-1] == 'o':\n",
    "                self.coins += 1\n",
    "                self.env.field[x][y-1] = ' '\n",
    "        else:\n",
    "            return -1,-1\n",
    "        return x,y\n",
    "    \n",
    "    def move(self, x,y):\n",
    "        self.x = x\n",
    "        self.y = y\n",
    "        while(True):\n",
    "            [a,b] = self.decide(self.x,self.y)\n",
    "            if [a,b] == [-1,-1]:\n",
    "                print(\"Collision\")\n",
    "                break\n",
    "            self.env.field[self.x][self.y] = '-'\n",
    "            self.x,self.y = a,b\n",
    "            print(a,b)\n",
    "            if((a,b) in self.history):\n",
    "                break\n",
    "            self.history.insert(0,(a,b))\n"
   ]
  },
  {
   "cell_type": "code",
   "execution_count": 85,
   "id": "d4de1ea8",
   "metadata": {},
   "outputs": [],
   "source": [
    "a = agent(env)"
   ]
  },
  {
   "cell_type": "code",
   "execution_count": 86,
   "id": "fe83ecbd",
   "metadata": {},
   "outputs": [
    {
     "name": "stdout",
     "output_type": "stream",
     "text": [
      "2 1\n",
      "3 1\n",
      "4 1\n",
      "5 1\n",
      "6 1\n",
      "7 1\n",
      "8 1\n",
      "9 1\n",
      "10 1\n",
      "11 1\n",
      "12 1\n",
      "13 1\n",
      "14 1\n",
      "15 1\n",
      "16 1\n",
      "16 2\n",
      "17 2\n",
      "18 2\n",
      "19 2\n",
      "20 2\n",
      "21 2\n",
      "22 2\n",
      "23 2\n",
      "24 2\n",
      "25 2\n",
      "26 2\n",
      "27 2\n",
      "28 2\n",
      "29 2\n",
      "30 2\n",
      "31 2\n",
      "32 2\n",
      "33 2\n",
      "34 2\n",
      "35 2\n",
      "36 2\n",
      "37 2\n",
      "38 2\n",
      "39 2\n",
      "40 2\n",
      "41 2\n",
      "42 2\n",
      "43 2\n",
      "44 2\n",
      "45 2\n",
      "46 2\n",
      "47 2\n",
      "48 2\n",
      "49 2\n",
      "50 2\n",
      "50 3\n",
      "50 4\n",
      "50 5\n",
      "50 6\n",
      "50 7\n",
      "50 8\n",
      "50 9\n",
      "50 10\n",
      "50 11\n",
      "50 12\n",
      "50 13\n",
      "50 14\n",
      "50 15\n",
      "50 16\n",
      "50 17\n",
      "50 18\n",
      "50 19\n",
      "50 20\n",
      "50 21\n",
      "50 22\n",
      "50 23\n",
      "50 24\n",
      "49 24\n",
      "50 24\n"
     ]
    }
   ],
   "source": [
    "a.move(1,1)"
   ]
  },
  {
   "cell_type": "code",
   "execution_count": 87,
   "id": "86b138c8",
   "metadata": {},
   "outputs": [
    {
     "name": "stdout",
     "output_type": "stream",
     "text": [
      "####################################################\n",
      "#-      #      o#o         o   #   #  #  o     o   #\n",
      "#-#        #oo o    ##          o           o#    ##\n",
      "#-    # o##                        #o        #  oo #\n",
      "#-        #           #        oo#       o  o      #\n",
      "#-   o#   o   o# o    o   o         o o o# o       #\n",
      "#-  #   #   #        o        o    o    o # #      #\n",
      "#-   #     o    o  o    #      o    o        #     #\n",
      "#-     #    o#      #      ##  o       #   #   o  ##\n",
      "#- #     o #   # o#     o  o       oo              #\n",
      "#- #          #       #         #     oo    o  o # #\n",
      "#-#             #  o         #oo  o     o o        #\n",
      "#-        o    o o         o              o #     ##\n",
      "#-       o# #  #            oo       # #   o  o    #\n",
      "#-o      o              #             o  #        ##\n",
      "#- #         o         ##          #     #         #\n",
      "#--                o  # #    o       o      #      #\n",
      "##-          o           oo      #           o o   #\n",
      "# -     oo      o       # #      o  #       #      #\n",
      "# -  o            ##      o  o               # #   #\n",
      "# -   o       o                  #        o        #\n",
      "# -       o o          #        o  #               #\n",
      "# -# # #  #               #   o   #    #     #   # #\n",
      "# -          o        o    o      o# o             #\n",
      "# -  #          o         o      o   o       o o   #\n",
      "# -       o    o       #    o#  #  o##             #\n",
      "# -#  o#                                o      #   #\n",
      "#o- #              #     o  #           #      #   #\n",
      "# -#        #    #  # o      o       #       #o    #\n",
      "# - o         o            o     #   # o       o  ##\n",
      "# -    o   ##    o   # o        #       o      #   #\n",
      "# -      #   ##o              o   #    #   #    o  #\n",
      "# -#       oo#                  oo # o             #\n",
      "# -             o    o                           # #\n",
      "#o-    #      #o     o        o      o   #  #    ###\n",
      "#o-    # oo #   #      o        oo     #o  #     o #\n",
      "# -o             o      o      oo #      #        ##\n",
      "# -            o  #         o      #       o  # o  #\n",
      "# -     # o   #o o   o   # o    ##                 #\n",
      "# - #   #                o  o    #   o#o           #\n",
      "# - # # o  o#o  #   oo o  o              #         #\n",
      "# -   #             o     #  o             # o  #  #\n",
      "# -      o  o #       o  #       o     #      #    #\n",
      "# -     o    o  o  o #                        o o  #\n",
      "#o- #           ##    #     o   o     #            #\n",
      "# -                        #                 #  o  #\n",
      "# -                   #o                    o   #  #\n",
      "# -o      #  o      # # o  # # #  o         #  #   #\n",
      "# -o      o   o   #      # #     o          #    # #\n",
      "#o- o      o o          -     #o #  o        #     #\n",
      "# -----------------------# oo       #   #    o     #\n",
      "####################################################\n"
     ]
    }
   ],
   "source": [
    "env.display()"
   ]
  },
  {
   "cell_type": "code",
   "execution_count": 67,
   "id": "833befca",
   "metadata": {},
   "outputs": [
    {
     "data": {
      "text/plain": [
       "0"
      ]
     },
     "execution_count": 67,
     "metadata": {},
     "output_type": "execute_result"
    }
   ],
   "source": [
    "a.coins"
   ]
  },
  {
   "cell_type": "code",
   "execution_count": 68,
   "id": "4cb573be",
   "metadata": {},
   "outputs": [
    {
     "data": {
      "text/plain": [
       "[(2, 1), (-1, -1)]"
      ]
     },
     "execution_count": 68,
     "metadata": {},
     "output_type": "execute_result"
    }
   ],
   "source": [
    "a.history"
   ]
  },
  {
   "cell_type": "code",
   "execution_count": 69,
   "id": "dd576e79",
   "metadata": {},
   "outputs": [
    {
     "data": {
      "text/plain": [
       "False"
      ]
     },
     "execution_count": 69,
     "metadata": {},
     "output_type": "execute_result"
    }
   ],
   "source": [
    "(38,7) in a.history"
   ]
  },
  {
   "cell_type": "code",
   "execution_count": null,
   "id": "83cbf826",
   "metadata": {},
   "outputs": [],
   "source": []
  }
 ],
 "metadata": {
  "kernelspec": {
   "display_name": "Python 3 (ipykernel)",
   "language": "python",
   "name": "python3"
  },
  "language_info": {
   "codemirror_mode": {
    "name": "ipython",
    "version": 3
   },
   "file_extension": ".py",
   "mimetype": "text/x-python",
   "name": "python",
   "nbconvert_exporter": "python",
   "pygments_lexer": "ipython3",
   "version": "3.9.7"
  }
 },
 "nbformat": 4,
 "nbformat_minor": 5
}

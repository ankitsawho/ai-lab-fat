{
 "cells": [
  {
   "cell_type": "markdown",
   "id": "56e7e7de",
   "metadata": {},
   "source": [
    "<img src=\"diag.png\" />"
   ]
  },
  {
   "cell_type": "code",
   "execution_count": 1,
   "id": "847cc797",
   "metadata": {},
   "outputs": [
    {
     "name": "stdout",
     "output_type": "stream",
     "text": [
      "Path : ['R', 'O', 'C', 'A']\n"
     ]
    },
    {
     "data": {
      "text/plain": [
       "['R', 'O', 'C', 'A']"
      ]
     },
     "execution_count": 1,
     "metadata": {},
     "output_type": "execute_result"
    }
   ],
   "source": [
    "def A_star(start, dest):\n",
    "        dist_from_start = {}\n",
    "        open_set = set(start)\n",
    "        closed_set = set()\n",
    "        parents = {}\n",
    "        dist_from_start[start] = 0\n",
    "        parents[start] = start\n",
    "               \n",
    "        while len(open_set) > 0:\n",
    "            n = None\n",
    "\n",
    "            # finding node with least f\n",
    "            for v in open_set:\n",
    "                if n == None or dist_from_start[v]+heuristic(v) < dist_from_start[n]+heuristic(n):\n",
    "                    n = v\n",
    "\n",
    "            if n == dest or Graph_nodes[n] == None:\n",
    "                pass\n",
    "            else:\n",
    "                for (m, weight) in get_neighbors(n):\n",
    "                    if m not in open_set and m not in closed_set:\n",
    "                        open_set.add(m)\n",
    "                        parents[m] = n\n",
    "                        dist_from_start[m] = dist_from_start[n]+weight\n",
    "                         \n",
    "                    else:\n",
    "                        if dist_from_start[m] > dist_from_start[n]+weight:\n",
    "                            dist_from_start[m] = dist_from_start[n] + weight\n",
    "                            parents[m] = n\n",
    "                             \n",
    "                            if m in closed_set:\n",
    "                                closed_set.remove(m)\n",
    "                                open_set.add(m)\n",
    " \n",
    "            if n == None:\n",
    "                print('Path not found')\n",
    "                return None\n",
    " \n",
    "            if n == dest:\n",
    "                path = []\n",
    " \n",
    "                while parents[n] != n:\n",
    "                    path.append(n)\n",
    "                    n = parents[n]\n",
    " \n",
    "                path.append(start)\n",
    "                path.reverse()\n",
    "                print('Path : {}'.format(path))\n",
    "                return path\n",
    " \n",
    " \n",
    "            open_set.remove(n)\n",
    "            closed_set.add(n)\n",
    " \n",
    "        print('Path not found')\n",
    "        return None\n",
    "         \n",
    "def get_neighbors(v):\n",
    "    if v in Graph_nodes:\n",
    "        return Graph_nodes[v]\n",
    "    else:\n",
    "        return None\n",
    "def heuristic(n):\n",
    "        H_dist = {\n",
    "            'R': 10000,\n",
    "            'O': 8000,\n",
    "            'C': 1200,\n",
    "            'B': 3000,\n",
    "            'V': 1000,\n",
    "            'B': 1200,\n",
    "            'H': 300,\n",
    "            'A': 0,\n",
    "        }\n",
    " \n",
    "        return H_dist[n]\n",
    " \n",
    "Graph_nodes = {\n",
    "    'R': [('B', 10000), ('O', 10000)],\n",
    "    'O': [('C', 3000)],\n",
    "    'B': [('O', 2000),('V', 2500)],\n",
    "    'V': [('B', 1200)],\n",
    "    'A': None,\n",
    "    'C': [('H', 3000), ('A', 1200),('B', 1000)],\n",
    "    'H': [('B', 200),('A', 500)],\n",
    "    'B': None,\n",
    "}\n",
    "\n",
    "A_star('R', 'A')"
   ]
  },
  {
   "cell_type": "code",
   "execution_count": null,
   "id": "69eebc14",
   "metadata": {},
   "outputs": [],
   "source": []
  }
 ],
 "metadata": {
  "kernelspec": {
   "display_name": "Python 3 (ipykernel)",
   "language": "python",
   "name": "python3"
  },
  "language_info": {
   "codemirror_mode": {
    "name": "ipython",
    "version": 3
   },
   "file_extension": ".py",
   "mimetype": "text/x-python",
   "name": "python",
   "nbconvert_exporter": "python",
   "pygments_lexer": "ipython3",
   "version": "3.10.4"
  }
 },
 "nbformat": 4,
 "nbformat_minor": 5
}

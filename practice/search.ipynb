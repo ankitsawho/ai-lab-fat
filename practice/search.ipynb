{
 "cells": [
  {
   "cell_type": "code",
   "execution_count": 2,
   "metadata": {},
   "outputs": [],
   "source": [
    "graph = {\n",
    "    1 : [2,3,5,6],\n",
    "    2: [7,8,5],\n",
    "    7: [8,9,6]\n",
    "}"
   ]
  },
  {
   "cell_type": "code",
   "execution_count": 5,
   "metadata": {},
   "outputs": [],
   "source": [
    "def bfs(graph, source):\n",
    "    visited = []\n",
    "    queue = []\n",
    "    queue.append(source)\n",
    "    visited.append(source)\n",
    "\n",
    "    while queue:\n",
    "        parent = queue.pop(0)\n",
    "        print(parent)\n",
    "        if parent in graph:\n",
    "            for child in graph[parent]:\n",
    "                if child not in visited:\n",
    "                    visited.append(child)\n",
    "                    queue.append(child)"
   ]
  },
  {
   "cell_type": "code",
   "execution_count": 6,
   "metadata": {},
   "outputs": [
    {
     "name": "stdout",
     "output_type": "stream",
     "text": [
      "1\n",
      "2\n",
      "3\n",
      "5\n",
      "6\n",
      "7\n",
      "8\n",
      "9\n"
     ]
    }
   ],
   "source": [
    "bfs(graph, 1)"
   ]
  },
  {
   "cell_type": "code",
   "execution_count": 7,
   "metadata": {},
   "outputs": [],
   "source": [
    "def dfs(graph, s):\n",
    "    visited = []\n",
    "    stack = []\n",
    "    stack.append(s)\n",
    "    visited.append(s)\n",
    "\n",
    "    while stack:\n",
    "        parent = stack.pop(-1)\n",
    "        print(parent)\n",
    "        if parent in graph:\n",
    "            for child in graph[parent]:\n",
    "                if child not in visited:\n",
    "                    visited.append(child)\n",
    "                    stack.append(child)"
   ]
  },
  {
   "cell_type": "code",
   "execution_count": 8,
   "metadata": {},
   "outputs": [
    {
     "name": "stdout",
     "output_type": "stream",
     "text": [
      "1\n",
      "6\n",
      "5\n",
      "3\n",
      "2\n",
      "8\n",
      "7\n",
      "9\n"
     ]
    }
   ],
   "source": [
    "dfs(graph, 1)"
   ]
  },
  {
   "cell_type": "code",
   "execution_count": null,
   "metadata": {},
   "outputs": [],
   "source": []
  }
 ],
 "metadata": {
  "interpreter": {
   "hash": "a07a41ca4490f177ef685d98d941fa5eeb07682e7a8017082b45e1c3ecde97cf"
  },
  "kernelspec": {
   "display_name": "Python 3.9.7 ('base')",
   "language": "python",
   "name": "python3"
  },
  "language_info": {
   "codemirror_mode": {
    "name": "ipython",
    "version": 3
   },
   "file_extension": ".py",
   "mimetype": "text/x-python",
   "name": "python",
   "nbconvert_exporter": "python",
   "pygments_lexer": "ipython3",
   "version": "3.9.7"
  },
  "orig_nbformat": 4
 },
 "nbformat": 4,
 "nbformat_minor": 2
}

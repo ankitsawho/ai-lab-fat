{
 "cells": [
  {
   "cell_type": "code",
   "execution_count": 1,
   "metadata": {},
   "outputs": [],
   "source": [
    "def h(n):\n",
    "    H_dist = {\n",
    "            'R': 10000,\n",
    "            'O': 8000,\n",
    "            'C': 1200,\n",
    "            'B': 3000,\n",
    "            'V': 1000,\n",
    "            'B': 1200,\n",
    "            'H': 300,\n",
    "            'A': 0,\n",
    "        }\n",
    " \n",
    "    return H_dist[n]"
   ]
  },
  {
   "cell_type": "code",
   "execution_count": 2,
   "metadata": {},
   "outputs": [],
   "source": [
    "Graph_nodes = {\n",
    "    'R': [('B', 10000), ('O', 10000)],\n",
    "    'O': [('C', 3000)],\n",
    "    'B': [('O', 2000),('V', 2500)],\n",
    "    'V': [('B', 1200)],\n",
    "    'A': None,\n",
    "    'C': [('H', 3000), ('A', 1200),('B', 1000)],\n",
    "    'H': [('B', 200),('A', 500)],\n",
    "    'B': None,\n",
    "}"
   ]
  },
  {
   "cell_type": "code",
   "execution_count": 3,
   "metadata": {},
   "outputs": [],
   "source": [
    "def a_star(s, t):\n",
    "    open_list = set(s)\n",
    "    closed_list = set()\n",
    "    dist_from_s = {}\n",
    "    dist_from_s[s] = 0\n",
    "    parent = {}\n",
    "    parent[s] = s\n",
    "\n",
    "    while open_list:\n",
    "        "
   ]
  },
  {
   "cell_type": "code",
   "execution_count": 4,
   "metadata": {},
   "outputs": [],
   "source": [
    "o = set()"
   ]
  },
  {
   "cell_type": "code",
   "execution_count": null,
   "metadata": {},
   "outputs": [],
   "source": []
  }
 ],
 "metadata": {
  "interpreter": {
   "hash": "a07a41ca4490f177ef685d98d941fa5eeb07682e7a8017082b45e1c3ecde97cf"
  },
  "kernelspec": {
   "display_name": "Python 3.9.7 ('base')",
   "language": "python",
   "name": "python3"
  },
  "language_info": {
   "codemirror_mode": {
    "name": "ipython",
    "version": 3
   },
   "file_extension": ".py",
   "mimetype": "text/x-python",
   "name": "python",
   "nbconvert_exporter": "python",
   "pygments_lexer": "ipython3",
   "version": "3.9.7"
  },
  "orig_nbformat": 4
 },
 "nbformat": 4,
 "nbformat_minor": 2
}
